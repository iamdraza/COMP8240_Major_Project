{
  "nbformat": 4,
  "nbformat_minor": 0,
  "metadata": {
    "colab": {
      "name": "ads_project.ipynb",
      "provenance": [],
      "collapsed_sections": [],
      "include_colab_link": true
    },
    "kernelspec": {
      "display_name": "Python 3",
      "name": "python3"
    },
    "language_info": {
      "name": "python"
    }
  },
  "cells": [
    {
      "cell_type": "markdown",
      "metadata": {
        "id": "view-in-github",
        "colab_type": "text"
      },
      "source": [
        "<a href=\"https://colab.research.google.com/github/iamdraza/COMP8240_Major_Project/blob/main/New%20Data.ipynb\" target=\"_parent\"><img src=\"https://colab.research.google.com/assets/colab-badge.svg\" alt=\"Open In Colab\"/></a>"
      ]
    },
    {
      "cell_type": "code",
      "metadata": {
        "id": "nI44MxBgxi3L"
      },
      "source": [
        "import pandas as pd \n",
        "import numpy as np\n",
        "import torch\n",
        "import re"
      ],
      "execution_count": null,
      "outputs": []
    },
    {
      "cell_type": "code",
      "metadata": {
        "colab": {
          "base_uri": "https://localhost:8080/"
        },
        "id": "R_vitWBWLcEL",
        "outputId": "75c93b19-7366-41a8-a16c-8a5e463eb71f"
      },
      "source": [
        "!pip3 install torch==1.8.2+cu111 torchvision==0.9.2+cu111 torchaudio===0.8.2 -f https://download.pytorch.org/whl/lts/1.8/torch_lts.html"
      ],
      "execution_count": null,
      "outputs": [
        {
          "output_type": "stream",
          "name": "stdout",
          "text": [
            "Looking in links: https://download.pytorch.org/whl/lts/1.8/torch_lts.html\n",
            "Requirement already satisfied: torch==1.8.2+cu111 in /usr/local/lib/python3.7/dist-packages (1.8.2+cu111)\n",
            "Requirement already satisfied: torchvision==0.9.2+cu111 in /usr/local/lib/python3.7/dist-packages (0.9.2+cu111)\n",
            "Requirement already satisfied: torchaudio===0.8.2 in /usr/local/lib/python3.7/dist-packages (0.8.2)\n",
            "Requirement already satisfied: typing-extensions in /usr/local/lib/python3.7/dist-packages (from torch==1.8.2+cu111) (3.7.4.3)\n",
            "Requirement already satisfied: numpy in /usr/local/lib/python3.7/dist-packages (from torch==1.8.2+cu111) (1.19.5)\n",
            "Requirement already satisfied: pillow>=4.1.1 in /usr/local/lib/python3.7/dist-packages (from torchvision==0.9.2+cu111) (7.1.2)\n"
          ]
        }
      ]
    },
    {
      "cell_type": "code",
      "metadata": {
        "id": "ZJATIb9ULeJc",
        "colab": {
          "base_uri": "https://localhost:8080/"
        },
        "outputId": "3f637e35-79ff-4985-92fb-2fb5e71ec944"
      },
      "source": [
        "!pip install sentencepiece"
      ],
      "execution_count": null,
      "outputs": [
        {
          "output_type": "stream",
          "name": "stdout",
          "text": [
            "Requirement already satisfied: sentencepiece in /usr/local/lib/python3.7/dist-packages (0.1.96)\n"
          ]
        }
      ]
    },
    {
      "cell_type": "code",
      "metadata": {
        "id": "rQlEmMsHLg2F",
        "colab": {
          "base_uri": "https://localhost:8080/"
        },
        "outputId": "453d4aa1-936c-4de1-95af-111f527c95ef"
      },
      "source": [
        "!pip install transformers"
      ],
      "execution_count": null,
      "outputs": [
        {
          "output_type": "stream",
          "name": "stdout",
          "text": [
            "Requirement already satisfied: transformers in /usr/local/lib/python3.7/dist-packages (4.12.3)\n",
            "Requirement already satisfied: tokenizers<0.11,>=0.10.1 in /usr/local/lib/python3.7/dist-packages (from transformers) (0.10.3)\n",
            "Requirement already satisfied: numpy>=1.17 in /usr/local/lib/python3.7/dist-packages (from transformers) (1.19.5)\n",
            "Requirement already satisfied: pyyaml>=5.1 in /usr/local/lib/python3.7/dist-packages (from transformers) (6.0)\n",
            "Requirement already satisfied: sacremoses in /usr/local/lib/python3.7/dist-packages (from transformers) (0.0.46)\n",
            "Requirement already satisfied: importlib-metadata in /usr/local/lib/python3.7/dist-packages (from transformers) (4.8.1)\n",
            "Requirement already satisfied: tqdm>=4.27 in /usr/local/lib/python3.7/dist-packages (from transformers) (4.62.3)\n",
            "Requirement already satisfied: requests in /usr/local/lib/python3.7/dist-packages (from transformers) (2.23.0)\n",
            "Requirement already satisfied: regex!=2019.12.17 in /usr/local/lib/python3.7/dist-packages (from transformers) (2019.12.20)\n",
            "Requirement already satisfied: huggingface-hub<1.0,>=0.1.0 in /usr/local/lib/python3.7/dist-packages (from transformers) (0.1.0)\n",
            "Requirement already satisfied: packaging>=20.0 in /usr/local/lib/python3.7/dist-packages (from transformers) (21.0)\n",
            "Requirement already satisfied: filelock in /usr/local/lib/python3.7/dist-packages (from transformers) (3.3.0)\n",
            "Requirement already satisfied: typing-extensions in /usr/local/lib/python3.7/dist-packages (from huggingface-hub<1.0,>=0.1.0->transformers) (3.7.4.3)\n",
            "Requirement already satisfied: pyparsing>=2.0.2 in /usr/local/lib/python3.7/dist-packages (from packaging>=20.0->transformers) (2.4.7)\n",
            "Requirement already satisfied: zipp>=0.5 in /usr/local/lib/python3.7/dist-packages (from importlib-metadata->transformers) (3.6.0)\n",
            "Requirement already satisfied: chardet<4,>=3.0.2 in /usr/local/lib/python3.7/dist-packages (from requests->transformers) (3.0.4)\n",
            "Requirement already satisfied: urllib3!=1.25.0,!=1.25.1,<1.26,>=1.21.1 in /usr/local/lib/python3.7/dist-packages (from requests->transformers) (1.24.3)\n",
            "Requirement already satisfied: idna<3,>=2.5 in /usr/local/lib/python3.7/dist-packages (from requests->transformers) (2.10)\n",
            "Requirement already satisfied: certifi>=2017.4.17 in /usr/local/lib/python3.7/dist-packages (from requests->transformers) (2021.5.30)\n",
            "Requirement already satisfied: joblib in /usr/local/lib/python3.7/dist-packages (from sacremoses->transformers) (1.0.1)\n",
            "Requirement already satisfied: click in /usr/local/lib/python3.7/dist-packages (from sacremoses->transformers) (7.1.2)\n",
            "Requirement already satisfied: six in /usr/local/lib/python3.7/dist-packages (from sacremoses->transformers) (1.15.0)\n"
          ]
        }
      ]
    },
    {
      "cell_type": "code",
      "metadata": {
        "id": "-nPYcX4VgffQ"
      },
      "source": [
        "from google.colab import drive\n",
        "from bs4 import BeautifulSoup\n",
        "from urllib.request import urlopen\n",
        "from transformers import PegasusForConditionalGeneration, PegasusTokenizer"
      ],
      "execution_count": null,
      "outputs": []
    },
    {
      "cell_type": "code",
      "metadata": {
        "id": "Si_fhRAHGm79"
      },
      "source": [
        "model_name = 'google/pegasus-xsum'\n",
        "device = 'cuda' if torch.cuda.is_available() else 'cpu'\n",
        "tokenizer = PegasusTokenizer.from_pretrained(model_name)\n",
        "model = PegasusForConditionalGeneration.from_pretrained(model_name).to(device)"
      ],
      "execution_count": null,
      "outputs": []
    },
    {
      "cell_type": "code",
      "metadata": {
        "colab": {
          "base_uri": "https://localhost:8080/"
        },
        "id": "3f3sE4djNhs2",
        "outputId": "349082c0-950d-4342-c165-ad639cba629d"
      },
      "source": [
        "src_text = \"\"\" Joe Biden has rejected suggestions that his Democratic party's shock loss in the Virginia governor's race was a verdict on his presidency.\n",
        "Mr Biden argued that the miring of his legislative agenda in a Capitol Hill logjam did not sway the outcome. He cited \"Trump voters\", schools, jobs and petrol\n",
        "prices as other reasons for the surprise defeat of Terry McAuliffe. Republican Glenn Youngkin, a political newcomer, came from behind to win the Virginia governor's\n",
        "race on Tuesday. Meanwhile, the New Jersey governor's race went down to a nail-biting dead heat between the Democratic incumbent, Phil Murphy, and a little-known Republican\n",
        "challenger, Jack Ciattarelli.\n",
        "\"\"\"\n",
        "batch = tokenizer(src_text, truncation=True, padding='longest', return_tensors=\"pt\").to(device)\n",
        "translated = model.generate(**batch)\n",
        "tgt_text = tokenizer.batch_decode(translated, skip_special_tokens=True)\n",
        "tgt_text"
      ],
      "execution_count": null,
      "outputs": [
        {
          "output_type": "execute_result",
          "data": {
            "text/plain": [
              "[\"Former US Vice-President Joe Biden has rejected suggestions that his Democratic party's shock loss in the Virginia governor's race was a verdict on his presidency.\"]"
            ]
          },
          "metadata": {},
          "execution_count": 159
        }
      ]
    },
    {
      "cell_type": "code",
      "metadata": {
        "colab": {
          "base_uri": "https://localhost:8080/"
        },
        "id": "-a1l3-PzOhNo",
        "outputId": "e1ef27fd-5b49-49d0-f6cd-a18c475704a8"
      },
      "source": [
        "!pip install rouge-score"
      ],
      "execution_count": null,
      "outputs": [
        {
          "output_type": "stream",
          "name": "stdout",
          "text": [
            "Requirement already satisfied: rouge-score in /usr/local/lib/python3.7/dist-packages (0.0.4)\n",
            "Requirement already satisfied: absl-py in /usr/local/lib/python3.7/dist-packages (from rouge-score) (0.12.0)\n",
            "Requirement already satisfied: numpy in /usr/local/lib/python3.7/dist-packages (from rouge-score) (1.19.5)\n",
            "Requirement already satisfied: nltk in /usr/local/lib/python3.7/dist-packages (from rouge-score) (3.2.5)\n",
            "Requirement already satisfied: six>=1.14.0 in /usr/local/lib/python3.7/dist-packages (from rouge-score) (1.15.0)\n"
          ]
        }
      ]
    },
    {
      "cell_type": "code",
      "metadata": {
        "id": "XltESxhMU6yC"
      },
      "source": [
        "human_Summary =[\"Indian festival name called Diwali shows dazzling display of lights and colours. Millions of people celebrate this festival name Diwali of Hindu religion. But it comes amid concerns over the coronavirus pandemic and air pollution. The symbolism seems particularly meaningful at a time when coronavirus continues to disrupt peoples lives. Although cases have fallen considerably over the past month, India is still one of the world's worst hit nations, officially recording more than 35 million cases and over 450,000 deaths.\",\n",
        "                \"The minister of Israel Karine Elharrar  has made headlines throughout the world that she couldnt attend the COP26 summit on Monday because of not accessible of Wheelchair. This behaviour looked amazed or ignored through the summit for all the disabled people and this lead to left out the conversion of climate change.\",\n",
        "                \"There is a good chance the character of Schitts Creek have turned up on your phone even if you havent watched. The Tv show has won prestigious awards and critical acclaim, but some of its most successful marketing has come from memes.\",\n",
        "                \"A former porter at the exclusive Abbots House apartment block in Kensington remembers meeting Dr Ruja Ignatova in 2016, as she returned from a shopping trip with her Bulgarian bodyguards. These two poor men came behind her like overloaded donkeys, struggling, and a bit out of breath - they must have had 20 bags each\",\n",
        "                \"In pledges made at the COP26 climate summit, more than 40 countries have committed to shift away from coal. Major coal-using countries including Poland, Vietnam and Chile are among those to make the commitment.\",\n",
        "                \"some of the worlds biggest coal dependent countries, including China and the US, did not sign up. In a separate commitment, 20 countries, including the US, pledged to end public financing for unabated fossil fuel projects abroad by the end of 2022.\",\n",
        "                \"Joe Biden has rejected suggestions that his Democratic partys shock loss in the Virginia governor's race was a verdict on his presidency. Mr Biden argued that the miring of his legislative agenda in a Capitol Hill logjam did not sway the outcome\",\n",
        "                \"Almost every day for 40 years, expert diver Jim Abernethy has been swimming with sharks at a patch of shallow crystal-clear ocean in the Bahamas known as Tiger Beach. At any given moment Jim can be surrounded by 30 or more tiger, reef and lemon sharks. But Jim has a unique relationship with these underwater predators who swim up to him for affectionate nose-rubs.\",\n",
        "                \"A four year old girl missing from 18 days in a remote part of Western Australia  who has been found alive and well in a locked house after police investigation. Cleo Smith disappeared from her familys tent at a campsite near the town of Carnarvon on 16 October. Police took a 36-year-old man in custody for the investigation. Police smashed their way into a home in Carnarvon in the early hours of Wednesday, following forensic clues. One of the officers picked her up into his arms and asked her, She said, My name is Cleo. The girl has been reunited with her parents, who had made desperate pleas for Cleos return. Our family is whole again, her mother, Ellie Smith, wrote on Instagram. Police footage of Cleos rescue showed her smiling and as well as we could expect in the circumstances, said Commissioner Chris Dawson, who added she was receiving medical care. Authorities say the man in custody has no connection to the Smith family.\",\n",
        "                \"Tigrays rebel forces currently have the upper hand in the war that erupted a year ago in northern Ethiopia. Prime Minister Abiy Ahmed, who fell out with the governing party of Tigray over his political reforms, has declared a nationwide state of emergency - it is fear and uncertainty that now rule. As rebels advance towards the capital, the government has asked residents of Addis Ababa to mobilise and protect their neighbourhoods. Fighters from Tigray, led by the Tigray People's Liberation Front (TPLF), took the cities of Dessie and Kombolcha over the weekend. They are in the Amhara region, which neighbours Tigray, and are about 400km (250 miles) from the capital. The battle for Dessie was believed to have been one of the most ferocious in the war as the city is seen as the gateway to Addis Ababa, in the south, and the border with Djibouti, in the east.\"]"
      ],
      "execution_count": null,
      "outputs": []
    },
    {
      "cell_type": "code",
      "metadata": {
        "colab": {
          "base_uri": "https://localhost:8080/"
        },
        "id": "8iEl9GslXn-s",
        "outputId": "6983828e-258f-4e40-b052-a19113c9df97"
      },
      "source": [
        "human_Summary"
      ],
      "execution_count": null,
      "outputs": [
        {
          "output_type": "execute_result",
          "data": {
            "text/plain": [
              "[\"Indian festival name called Diwali shows dazzling display of lights and colours. Millions of people celebrate this festival name Diwali of Hindu religion. But it comes amid concerns over the coronavirus pandemic and air pollution. The symbolism seems particularly meaningful at a time when coronavirus continues to disrupt peoples lives. Although cases have fallen considerably over the past month, India is still one of the world's worst hit nations, officially recording more than 35 million cases and over 450,000 deaths.\",\n",
              " 'The minister of Israel Karine Elharrar  has made headlines throughout the world that she couldnt attend the COP26 summit on Monday because of not accessible of Wheelchair. This behaviour looked amazed or ignored through the summit for all the disabled people and this lead to left out the conversion of climate change.',\n",
              " 'There is a good chance the character of Schitts Creek have turned up on your phone even if you havent watched. The Tv show has won prestigious awards and critical acclaim, but some of its most successful marketing has come from memes.',\n",
              " 'A former porter at the exclusive Abbots House apartment block in Kensington remembers meeting Dr Ruja Ignatova in 2016, as she returned from a shopping trip with her Bulgarian bodyguards. These two poor men came behind her like overloaded donkeys, struggling, and a bit out of breath - they must have had 20 bags each',\n",
              " 'In pledges made at the COP26 climate summit, more than 40 countries have committed to shift away from coal. Major coal-using countries including Poland, Vietnam and Chile are among those to make the commitment.',\n",
              " 'some of the worlds biggest coal dependent countries, including China and the US, did not sign up. In a separate commitment, 20 countries, including the US, pledged to end public financing for unabated fossil fuel projects abroad by the end of 2022.',\n",
              " \"Joe Biden has rejected suggestions that his Democratic partys shock loss in the Virginia governor's race was a verdict on his presidency. Mr Biden argued that the miring of his legislative agenda in a Capitol Hill logjam did not sway the outcome\",\n",
              " 'Almost every day for 40 years, expert diver Jim Abernethy has been swimming with sharks at a patch of shallow crystal-clear ocean in the Bahamas known as Tiger Beach. At any given moment Jim can be surrounded by 30 or more tiger, reef and lemon sharks. But Jim has a unique relationship with these underwater predators who swim up to him for affectionate nose-rubs.',\n",
              " 'A four year old girl missing from 18 days in a remote part of Western Australia  who has been found alive and well in a locked house after police investigation. Cleo Smith disappeared from her familys tent at a campsite near the town of Carnarvon on 16 October. Police took a 36-year-old man in custody for the investigation. Police smashed their way into a home in Carnarvon in the early hours of Wednesday, following forensic clues. One of the officers picked her up into his arms and asked her, She said, My name is Cleo. The girl has been reunited with her parents, who had made desperate pleas for Cleos return. Our family is whole again, her mother, Ellie Smith, wrote on Instagram. Police footage of Cleos rescue showed her smiling and as well as we could expect in the circumstances, said Commissioner Chris Dawson, who added she was receiving medical care. Authorities say the man in custody has no connection to the Smith family.',\n",
              " \"Tigrays rebel forces currently have the upper hand in the war that erupted a year ago in northern Ethiopia. Prime Minister Abiy Ahmed, who fell out with the governing party of Tigray over his political reforms, has declared a nationwide state of emergency - it is fear and uncertainty that now rule. As rebels advance towards the capital, the government has asked residents of Addis Ababa to mobilise and protect their neighbourhoods. Fighters from Tigray, led by the Tigray People's Liberation Front (TPLF), took the cities of Dessie and Kombolcha over the weekend. They are in the Amhara region, which neighbours Tigray, and are about 400km (250 miles) from the capital. The battle for Dessie was believed to have been one of the most ferocious in the war as the city is seen as the gateway to Addis Ababa, in the south, and the border with Djibouti, in the east.\"]"
            ]
          },
          "metadata": {},
          "execution_count": 162
        }
      ]
    },
    {
      "cell_type": "code",
      "metadata": {
        "id": "yZtarHTTsXuA"
      },
      "source": [
        "def preprocess_data(text):\n",
        "  text_tokens = re.sub(r'\\[.*?]+', '', text)\n",
        "  text_tokens = (re.sub('[0-9]', '', text_tokens))\n",
        "  text_tokens = re.sub('[^a-zA-Z]+', ' ', text_tokens)\n",
        "  return text_tokens"
      ],
      "execution_count": null,
      "outputs": []
    },
    {
      "cell_type": "code",
      "metadata": {
        "id": "i9ycUG5NP-t-"
      },
      "source": [
        "src = []\n",
        "def scrap_webpages(link):\n",
        "    'input link, it will scrap the data from the link and store in variable'\n",
        "    url = link\n",
        "    html = urlopen(url)\n",
        "    soup = BeautifulSoup(html, 'html.parser')\n",
        "    text = \"\"\n",
        "    title = \"\"\n",
        "    for paragraph in soup.find_all('p'):\n",
        "        text += paragraph.get_text()\n",
        "        process_text=preprocess_data(text)\n",
        "        process_text = ' '.join(process_text.split(' ')) + '.'\n",
        "    src.append(preprocess_data(text))\n"
      ],
      "execution_count": null,
      "outputs": []
    },
    {
      "cell_type": "code",
      "metadata": {
        "id": "YQHZxauEQAV4"
      },
      "source": [
        "links_list = ['https://www.bbc.com/news/world-asia-india-59133207',\n",
        "              'https://www.bbc.com/news/disability-59042087',\n",
        "              'https://www.bbc.com/news/newsbeat-59149046',\n",
        "              'https://www.bbc.com/news/stories-59062959',\n",
        "              'https://www.bbc.com/news/world-europe-59075043',\n",
        "              'https://www.bbc.com/news/science-environment-59159018',\n",
        "              'https://www.bbc.com/news/world-us-canada-59159008',\n",
        "              'https://www.bbc.com/news/av/science-environment-59157131',\n",
        "              'https://www.bbc.com/news/world-australia-59143494',\n",
        "              'https://www.bbc.com/news/world-africa-59151370']"
      ],
      "execution_count": null,
      "outputs": []
    },
    {
      "cell_type": "code",
      "metadata": {
        "id": "FbUAQCiURiis"
      },
      "source": [
        "for links in links_list:\n",
        "  #print(links)\n",
        "  scrap_webpages(links)"
      ],
      "execution_count": null,
      "outputs": []
    },
    {
      "cell_type": "code",
      "metadata": {
        "colab": {
          "base_uri": "https://localhost:8080/"
        },
        "id": "eOnl_o1Zsqd8",
        "outputId": "b0f7f2f1-3d6b-47d3-93b1-af5dfe600ecc"
      },
      "source": [
        "src"
      ],
      "execution_count": null,
      "outputs": [
        {
          "output_type": "execute_result",
          "data": {
            "text/plain": [
              "['India has been lit up in a dazzling display of light and colour as millions of people celebrate the Hindu festival of Diwali But it comes amid concerns over the coronavirus pandemic and air pollution A time for feasts prayers and fireworks Diwali is one of the most important festivals in India It is known as the festival of lights as people illuminate oil lamps or candles to symbolise the triumph of light over darkness and good over evil The symbolism seems particularly meaningful at a time when coronavirus continues to disrupt people s lives Although cases have fallen considerably over the past month India is still one of the world s worst hit nations officially recording more than million cases and over deaths For some Diwali marks the beginning of a new year It is also the social highpoint for Indians as people buoyed by festive cheer throw parties meet friends and family and exchange gifts The exact dates of the festival change each year and are determined by the position of the moon but it typically falls between October and November This year Diwali is being celebrated on Thursday Like last year the coronavirus pandemic has brought many Diwali traditions to a halt The government has pleaded with people to avoid large gatherings and stay away from crowded areas And many have opted for low key celebrations with temples even streaming prayer sessions online to discourage gatherings But in the capital city of Delhi massive crowds thronged markets ahead of the festival Such actions officials say could cause another dangerous resurgence in infections that could overwhelm India s healthcare system At the peak of India s Covid crisis in April and May India experienced scenes of chaos as hospitals were overwhelmed with patients amid a crippling shortage of oxygen medicines and crucial equipment The public health crisis has largely subsided the country has been recording about daily cases down from in May But experts have repeatedly cautioned against complacency saying a third wave of infections is inevitable But Covid is not the only issue The use of firecrackers during the celebrations worsens pollution levels every year This is particularly bad in Delhi where air pollution rises to hazardous levels and a thick blanket of smog envelopes the city The air quality further worsens in November and December as farmers in the neighbouring states of Punjab and Haryana burn crop stubble to clear their fields Studies around the world have linked air pollution to higher Covid case numbers and deaths A Harvard University study shows that an increase of only one microgram per cubic metre in PM dangerous tiny pollutants in the air is associated with an increase in the Covid death rate Ahead of Diwali several states ordered complete or partial bans on the use of firecrackers In the past though similar bans have often been flouted This video can not be playedAll photos subject to copyright Crass loud meaningless Why have we ruined Diwali like this Are Diwali fireworks to blame for smog BBC The BBC is not responsible for the content of external sites Read about our approach to external linking ',\n",
              " 'By Keiligh BakerBBC OuchThis video can not be playedIsraeli minister Karine Elharrar made headlines around the world when it emerged she couldn t attend the COP summit on Monday because it wasn t wheelchair accessible For many disabled people it was a reflection of the way they often feel ignored or left out of conversations about climate change Yet disabled people are among those most adversely affected in an emergency according to the United Nations Human Rights Council And those emergencies from wildfires to flooding are likely to become more frequent because of the climate crisis So why are disabled people so affected by climate change and what can we do about it In July a heatwave hit Montreal Canada Temperatures soared to C F for days Hospitals became busy with those experiencing the effects of heat and people died A quarter of those had schizophrenia That s times their share of the population says Prof S bastien Jodoin a climate change specialist from McGill University who has multiple sclerosis and studies the relationship between human rights disability and the climate crisis Many people with schizophrenia take anti psychotic medication to treat their symptoms It can make patients less tolerant to heat increasing the risk of heatstroke and severe dehydration which can prove fatal Professor Jodoin says it s the lack of communication between authorities and at risk communities that exacerbates these situations People who live with schizophrenia tend to have less of a social network they tend to be more poor he says These are the underlying effects of how disability will increase vulnerability or engender vulnerability to climate change Climate change increases the risk of the hot dry weather which is likely to lead to more heatwaves and fuel wildfires A warming atmosphere also makes extreme rainfall and flooding more likely Professor Jodoin says what happened in Montreal is a snapshot of what is to come In California was hit with a series of outages as companies shut down power to prevent wildfires spreading Gerald Niimi from Santa Rosa in North California had managed a chronic lung disease for years and relied on an oxygen ventilator to help him breathe But when the power outage hit his ventilator stopped He and his wife fled their home and desperately searched for a working vent but failed Gerald died two days later Energy supplier Pacific Gas Electric later admitted it had failed to notify thousands of customers including hundreds with medical conditions before shutting off their power During the wildfires some disabled Californians had difficulty fleeing their homes Those who were able to escape found many of the emergency centres providing water bathrooms and a safe space were not accessible This summer disabled care home residents in the town of Sinzig in Germany died when sudden flooding hit they had been unable to evacuate The floods have been linked to climate change by scientists and politicians Dr Charles Williams a climate scientist and research fellow at the University of Bristol has spinal muscular atrophy SMA As a wheelchair user I would not be able to get into a rubber dinghy to be evacuated he says Similar stories emerged after Hurricane Katrina hit New Orleans in causing serious flooding A report by the US based National Council on Disabilities found disabled people struggled to access support Most evacuation busses did not have wheelchair lifts many of the emergency shelters were inaccessible and people with visual and hearing impairments were unable to obtain local safety information Weather related disasters such as Hurricane Katrina have increased five fold over the past years So what needs to happen to better support disabled people Andy Greene from Disabled People Against Cuts DPAC believes disabled people need to be more involved in climate change discussions particularly when new laws are brought in He says governments often overlook the impact of legislation on those who are disabled pointing to the crackdown on plastic straws as one example After a Sir David Attenborough documentary highlighted how take away containers were littering the seas a public outcry led to legislation banning single use plastic straws The new law included an exemption for those who need to use plastic straws for medical reasons but Mr Greene says many disabled people were still adversely affected as they rely on the availability of plastic straws to drink independently Replacements like metal or pasta straws are hard and can cause damage if for instance the person using them were to slip or spasm while drinking And paper straws tend to collapse That s why bendable plastic is important for those who can t pick up a cup Disabled people are a very small group but this ban has a real impact on them while having a minimal actual real impact on the structural effects of climate change and global warming he says He believes it s another example of disabled people being forgotten and left behind The term eco ableism is now being used to describe this sort of discrimination It refers to the failure of decision makers and activists to consider that some environmental actions make life more difficult for disabled people such as removing disabled parking bays to make way for cycle lanes At COP some side events will specifically explore disability and climate change One event will look at inclusive designs for climate resilient cities while another will highlight the impact of climate change on the health of disabled people Prof Jodoin says governments often do not think of the specific requirements of people with disabilities But he sees COP as an opportunity to push disability rights Dr Williams says there are reasons to be hopeful about tackling climate change He says the problem so far has been the apparent lack of motivation and willpower to make changes on an individual and political level Only time will tell if these attitudes will change There has been a dramatic shift in the last years but this needs to continue For more disability news follow BBC Ouch on Twitter Facebook and listen to our podcasts which also have transcriptsMcGill UniversityUnited Nations Human Rights CouncilUniversity of BristolWorld BankNational Council on DisabilitiesCBMDisabled People Against CutsEurope once again at epicentre of Covid WHO warnsThe WHO warns of more deaths in Europe by February as cases soar across the continent High risk Covid gene more common in South AsiansKirk Douglas assaulted Natalie Wood sister allegesLyse Doucet s love letter to Kabul through nine treasured placesAs winter looms reports of starvation in North KoreaDoes the skyscraper still have a future Weekly quiz Who joined Macaulay in the Love Parade The pizza box dilemma How to avoid wishcyclingCovid delays student s journey from slum to SydneyHow fresh is your food Sensors could show you VideoHow fresh is your food Sensors could show you Flippers united people in the joy of skating Video Flippers united people in the joy of skating BBC Worklife Why parents get pushy and competitiveFootball phrases sayings from around the world BBC The BBC is not responsible for the content of external sites Read about our approach to external linking ',\n",
              " 'By Paul StanworthNewsbeat reporterEven if you haven t watched it there s a good chance the characters of Schitt s Creek have turned up on your phone in your social feeds or in your WhatsApp groups The TV show has won prestigious awards and critical acclaim but some of its most successful marketing has come from memes I feel like the internet world almost caught on before the TV world did the series co creator and star Dan Levy tells Radio Newsbeat The show is shown in dozens of countries around the world and has proved irresistibly binge worthy We had an incredible social media manager through the Canadian Broadcasting Corporation says Dan He was the person who initially put up all of that content online I think it was the end of season two or three when he mentioned one meme or gif that had been viewed a billion times If were a Schitt s Creek meme pic twitter com pMLurSUDid you ever notice that there s a Schitt s Creek meme for every occasion pic twitter com dOeqFLlKkHEverytime I say Ew my inner Alexis Rose wakes up SchittsCreek annefrances pic twitter com uflXyfEKOIf you ve only seen the out of context internet stuff then it s probably time for a quick explanation Dan plays David Rose the son in a billionaire family who lose everything and end up living in a motel in a remote town David is used to a completely over the top life in his luxury New York apartment but all of a sudden he s sharing a motel room with his sister Alexis who s played by Annie Murphy Initially the audience wasn t supposed to like the Rose family We had the luxury of spending an entire first season showing who these people were in order to slowly but surely reveal who they are becoming says Dan I m very grateful that people stayed because the first season is showing these characters at their worst he adds Dan s just released a book called Best Wishes Warmest Regards The Story Of Schitt s Creek which looks at all six series and episodes of the comedy He s written it with the guy he also co created the show with his real life and on screen dad Eugene Levy The show s cult following even helped write the book with fans knowing more about the show than Dan did It s both embarrassing for me and a compliment to them he says There was one Instagram account called Schitt s Sheets which documented in great detail through a variety of spreadsheets information about our show from the number of times that people hugged each other to the various variations that I wore my rings to the number of times that Alexis said ew in the show A post shared by Schitt s Sheets schittssheets Alexis only says ew David a handful of times in the entire thing so what s become a catchphrase of hers in the world of memes isn t actually a massive part of the TV character I think that s the big revelation for a lot of people as they think it s been spoken times Dan says The truth is she said things like ew stop or ew no a lot more As well as internet legacies Dan wants his show to be remembered for other reasons including David s pansexuality which means he s attracted to people regardless of their gender A lot of the stories I see representing my community are cautionary tales or lessons to be learned or something that s kind of heavy handed and waterlogged with messaging Dan says Very rarely do members of the LGBTQIA community get to see themselves represented in really hopeful and happy ways It s about presenting people for who they are and allowing people to see those people and warm to those people and love those people Dan also let Newsbeat in on something fans have been wildly speculating about since a picture surfaced of him out to dinner with Antman star Paul Rudd a few weeks ago People hoped the meeting might mean Dan s in the third Antman film but they were wrong What came from that photo was essentially that I look much older than him that we are best friends and that I am in Antman he says Unfortunately he is not younger than me we are not best friends and I am not sadly in Antman Follow Newsbeat on Instagram Facebook Twitter and YouTube Listen to Newsbeat live at and weekdays or listen back here Schitt s Creek normalises LGBTQ relationships Schitt s Creek and Succession sweep Emmy AwardsSchitt s Creek creator attacks kiss censorship Europe once again at epicentre of Covid WHO warnsThe WHO warns of more deaths in Europe by February as cases soar across the continent High risk Covid gene more common in South AsiansKirk Douglas assaulted Natalie Wood sister allegesLyse Doucet s love letter to Kabul through nine treasured placesAs winter looms reports of starvation in North KoreaDoes the skyscraper still have a future Weekly quiz Who joined Macaulay in the Love Parade The pizza box dilemma How to avoid wishcyclingCovid delays student s journey from slum to SydneyHow fresh is your food Sensors could show you VideoHow fresh is your food Sensors could show you Flippers united people in the joy of skating Video Flippers united people in the joy of skating BBC Worklife Why parents get pushy and competitiveFootball phrases sayings from around the world BBC The BBC is not responsible for the content of external sites Read about our approach to external linking ',\n",
              " 'A money laundering trial in Germany is shining a light on the purchase of a luxury London penthouse by cryptocurrency scammer Dr Ruja Ignatova Jamie Bartlett and Rob Byrne of The Missing Cryptoqueen podcast explain how she used British based lawyers and wealth managers who continued to offer their services after she disappeared A former porter at the exclusive Abbots House apartment block in Kensington remembers meeting Dr Ruja Ignatova in as she returned from a shopping trip with her Bulgarian bodyguards These two poor men came behind her like overloaded donkeys struggling and a bit out of breath they must ve had bags each says James not his real name Dr Ruja had been splashing out on designer label goods Jimmy Choo Prada and Calvin Klein without regard for the expense A little later James got a look inside her four bedroom penthouse flat complete with swimming pool She had an Andy Warhol painting stuffed in the cupboard and that broke my heart because I went to art college says the ex policeman That was a print of the actress Elizabeth Taylor Another Warhol Red Lenin hung above the fireplace To the left of a sofa in another reception room was a print of Queen Bubblegum by Michael Moebius showing Queen Elizabeth blowing a bubble Private Eye later estimated the flat contained works of art worth bought from London s Halcyon gallery James wondered whether Dr Ignatova was deliberately spreading her suspect wealth into assets that could be easily moved to avoid them being seized On September Dr Ruja s German lawyer Martin Breidenbach went on trial in M nster accused of money laundering for transferring million euros to a London law firm to fund the purchase of the luxury property Two others are also in the dock facing charges connected to the siphoning of millions of euros from Dr Ruja s bn scam which consisted of selling something that didn t exist a fake cryptocurrency she called OneCoin When the lease was signed in August financial regulators in at least one European country had already issued a warning about OneCoin A few months earlier Dr Ruja had pleaded guilty to fraud and other charges in a German court after bankrupting a metal factory she d bought and leaving people jobless in But this wasn t widely known Lawyers at Locke Lord a US law firm with an office in London did express concern about the source of the million euros being transferred this is apparent from internal emails revealed later in a US court case But Dr Ruja s companies passed the firm s compliance checks so they proceeded with the purchase of the property along with Aquitaine Group a Guernsey company offering tax haven services to wealthy clients The penthouse had been refurbished by luxury property developers Candy Candy after a fire that broke out while it was the London home of the singer Duffy The estate agent was Knight Frank But quite who had bought the flat remained unclear to the outside world thanks to British tax haven secrecy According to the property deed its owner is Abbots House Penthouse Limited This is an anonymous Guernsey shell company one of such companies that own properties in England and Wales meaning that Dr Ruja s name would not have to appear on the UK deed or in public records in the Channel Island Other Guernsey firms were appointed as directors or nominees and a couple of months after Dr Ruja s offer was accepted Aquitaine was listed as the company s resident agent in Guernsey The London address of Locke Lord meanwhile appeared on the penthouse s Land Registry documents This appears to have been enough to conceal Dr Ruja s purchase of the property from the City of London Police which told swindled OneCoin investors in September that they were unable to identify any OneCoin assets in the UK The truth was only revealed two months later in emails read out in the money laundering trial of a former Locke Lord employee in the US Mark Scott Some people in the area claim to remember their infamous ex neighbour but we ve been told she only stayed briefly in That year she seemed to be preparing to put down roots in London She opened an office at the exclusive Knightsbridge building and celebrated her th birthday with a lavish party at the Victoria and Albert Museum We ve also heard that she was making plans for her daughter to go to a private school in the UK one day But mostly the sq ft of the ultimate penthouse as Candy Candy described it remained empty So far as we can tell Dr Ruja didn t visit her Kensington pad at all in and then on October that year she boarded a Ryanair flight from Sofia to Athens and vanished off the face of the Earth James the former porter used to visit the flat daily to ventilate it It was like a greenhouse up there he said The summer heat and direct light warped doors and faded the expensive artwork Sometimes he would chase out pigeons that entered through a badly closing door Occasionally other people connected with OneCoin would come to stay In July Dr Ruja s brother Konstantin who took over as head of the scam a few months after her disappearance posted a selfie taken inside the penthouse James also remembers friends of Konstantin s visiting and has identified Frank Schneider Dr Ruja s head of security as another guest who spent time there after she disappeared Konstantin was arrested at Los Angeles International airport on March and charged with conspiracy to commit fraud Schneider the former head of Luxembourg s spy agency was detained in France in April this year at the request of US authorities and a decision on his extradition is expected this month James says Schneider had been trying to arrange the sale of the penthouse but our sources tell us it was rented out instead Photos from a rental listing also with Knight Frank showed the Red Lenin still above the fireplace There was no sign of the Liz portrait but the eagle eyed could spot the face of Dr Ruja herself on a special plate gifted by one of her top promoters We re told she hated it While the flat was being prepared for renting representatives of Aquitaine came and went One had the locks changed A former employee of Dr Ruja s told us that another carried out sacks full of luxury possessions Law firm Locke Lord also continued to offer its services to Dr Ruja long after she went missing A letter admitted in evidence at the US trial of ex employee Mark Scott shows that on July James Channo a partner at the London branch of the firm wrote to Dr Ruja about her UK properties We believe it is important that we revisit the manner in which you hold your real estate interests in the UK he wrote The letter addressed to Dr Ruja at a Sofia address was sent a couple of months before Scott s arrest nine months after Dr Ruja s sudden disappearance and months after the UK s Financial Conduct Authority revealed in a warning to potential investors that the City of London Police was investigating OneCoin Investigations into OneCoin or affiliated companies had also been announced in a number of other countries Setting out the scope of the work he would like to do for per hour Mr Channo also sent email versions to Konstantin and Frank Schneider all the while noting that email communication was not fully secure The letter contained no specific details of the UK properties but Mr Channo cautioned Dr Ruja about the need to re evaluate her UK property holdings factoring issues such as tax discretion of holding to the extent possible and simplicity of structure A statement provided by Locke Lord and James Channo said the letter was an offer of legal services in a standard form that it was disclosed by Locke Lord to US prosecutors and that no work was done for Dr Ruja as a result One interesting line in the letter confirmed what our sources had been telling us that it wasn t just the penthouse Dr Ruja had bought in the UK On the fifth floor of Abbots House there s a less fancy two bedroom apartment that ex porter James told us Dr Ruja s bodyguards would stay in UK records show the owner of Abbots House is also a Guernsey shell company Abbots Property Limited and that it too is registered at Aquitaine s address The smaller flat was also bought in for m Her name was again kept off the paperwork but our sources say she was the one behind the purchase Asked by the BBC about its dealings with Dr Ruja Aquitaine said it had no comment to make After she disappeared Abbots House seems to have taken on a different function serving as a secret storage facility which our sources tell us at one point housed two large safes We ve been told it was the immediate destination for valuables that were hurriedly cleared out of the penthouse by her staff with the help of an Aquitaine employee before it was rented out Where Dr Ruja s luxury clothes jewellery shoes and some of her artwork went after that remains a mystery like nearly everything with her A former employee told us that her very coveted Louboutin shoes probably went to a charity shop but couldn t account for the final destination of all of her possessions It s possible some answers are known across the English Channel in Guernsey The existence of these London properties is interesting news for millions of victims of the OneCoin scam who want Dr Ruja s assets to be sold and the proceeds distributed among investors However complex ownership structures the Guernsey shell companies may be just the start could make it difficult to prove that Dr Ruja is the legal owner In the wake of the Pandora Papers campaigners have repeated calls for a register of offshore property owners which the UK government has promised but has so far failed to deliver After pressure from MPs in Guernsey and other Crown dependencies committed to making public the owners of companies based within their jurisdiction but not until Victims campaigner Jen McAdam said the news that British based lawyers offshore wealth managers and estate agents were involved when Dr Ruja bought properties in London filled her with revulsion and anger This is almost certainly OneCoin victims money that these properties have been purchased with victims who for the last five years have been facing unimaginable emotional suffering and immense financial loss she said Now is not the time for the companies to remain quiet about their involvement now is the time to be open transparent and tell the truth We want answers The BBC estimates that investors in the UK alone lost more than m Jen McAdam also criticised the City of London Police for closing its investigation into OneCoin without making any charges in September A police spokesperson commented The force has provided assistance to foreign law enforcement partners in respect of their investigations and will continue to do so We have advised the investors with whom we have interacted with to contact the relevant law enforcement organisations directly Lawyers for James Channo and Locke Lord the legal firm used by Ruja to buy the Kensington properties emphasised that OneCoin had never been among its clients It said Mark Scott s work for OneCoin was not done on behalf of Locke Lord and that the company had not been aware of it until he was charged with money laundering almost two years after he had left the company Knight Frank the estate agent told the BBC We always comply with our legal and regulatory obligations when carrying out financial transactions and where appropriate interact with the relevant authorities Martin Breidenbach Dr Ruja s German lawyer denies money laundering His trial is expected to last until May Listen to The Missing Cryptoqueen podcast on BBC Sounds the search for Dr Ruja Ignatova continues and new episodes are planned in Europe once again at epicentre of Covid WHO warnsThe WHO warns of more deaths in Europe by February as cases soar across the continent High risk Covid gene more common in South AsiansKirk Douglas assaulted Natalie Wood sister allegesLyse Doucet s love letter to Kabul through nine treasured placesAs winter looms reports of starvation in North KoreaDoes the skyscraper still have a future Weekly quiz Who joined Macaulay in the Love Parade The pizza box dilemma How to avoid wishcyclingCovid delays student s journey from slum to SydneyHow fresh is your food Sensors could show you VideoHow fresh is your food Sensors could show you Flippers united people in the joy of skating Video Flippers united people in the joy of skating BBC Worklife Why parents get pushy and competitiveFootball phrases sayings from around the world BBC The BBC is not responsible for the content of external sites Read about our approach to external linking ',\n",
              " 'By Bethany BellBBC News GreeceWorld leaders at the COP summit in Glasgow are under pressure to respond to global warming and intense heatwaves and frequent forest fires are becoming an increasing threat around the Mediterranean This summer alone Greece was hit by thousands of wildfires fanned by its worst heatwave in decades Turkey Italy and Spain all witnessed dramatic fires in recent months and the fire on the Greek island of Evia was the biggest in Greece since records began What happened on Evia was a megafire an intense conflagration which took almost two weeks to bring under control With more heatwaves forecast for future summers there are fears that megafires could become the new normal We never expected this says Nikos Dimitrakis a farmer who was born and raised in northern Evia We thought a part might burn as in previous fires But now the entire area was burned When the fire reached his land he told me there was no one there to help Surrounded by flames he grabbed tree branches in a desperate attempt to put out the blaze The fire was coming uphill there was so much noise and I was just sitting and watching At some point I burst into tears and left There is nothing you can do unless you have a fire truck nearby something Alone what can you do Like many people in Evia Nikos relied on the forest for his livelihood We lost our treasure our forest we lived from it We lost our pine trees from which we d take resin we lost the chestnut trees we lost some walnut trees The point now is how the state will support us Nikos says the authorities mishandled the fire I feel angry because I didn t expect this catastrophe to happen For sure climate change is a factor but the fire shouldn t have been allowed to grow so big They are responsible They burned us and they know it Many locals say the authorities didn t do enough to stop the spread of the blazes but firefighters say this year s megafires were unprecedented Lt Col Stratos Anastasopoulos who is responsible for co ordinating fire fighting aircraft across Greece took me up in a helicopter to see the extent of the damage In his year career he can t remember anything like it It was a war because we had a lot of fires all over in Greece almost fires per day for five or six days at a time So it was very very difficult for us Weather conditions were very different this year he says blaming an extended heatwave and very little rain I think all of us we can see the climate changes There is not only a Greek problem or American problem or Italian problem It s a global problem Greek Prime Minister Kyriakos Mitsotakis has blamed climate change for the extent of the damage The climate crisis is here he said We have done what was humanly possible but that was not enough While he admitted mistakes had been made in the response the intensity of the phenomenon overcame many of our defences More than hectares sq miles of forest were burnt in northern Evia alone It took almost two weeks to bring the fire under control The damage will be felt for years to come Foresters say the pinewoods will eventually regenerate if they can be protected from future fires but the trees will take up to years to grow back There is a real danger of erosion and flooding when the rains come this winter The forestry department has hired local teams to use logs to form makeshift terraces to stop landslides Over the next months they will have to cut down dead wood all over northern Evia to make space for new trees to grow This video can not be playedElias Tziritis a wildfires expert with the World Wildlife Fund says pine forests can cope and even thrive with fires every to years But he fears that they won t be able to regenerate if fires happen too frequently I m very confident about nature nature is going to do the work he told me The Mediterranean forest is used to forest fires It s part of their rehabilitation mechanism But while I trust nature what I don t trust is humans Elias who is also a volunteer firefighter fears the authorities are in danger of lurching from one crisis to another Without greater focus on prevention he is concerned that megafires will happen again and again He wants better forest management clearing away flammable forest fuel such as broken branches and dead leaves especially in areas where housing is very close to the woods The politicians here in Greece say the problem of forest fires is climate change But you know climate change is just one of the criteria for more intense forest fires That is why he believes people should be prepared to adjust to a new reality of more heatwaves and more days of fire danger Ask our colleagues in Spain Portugal Italy or Turkey they ll tell you the new trend in forest fires is megafires megafires that are affected by climate change And his answer to climate change is to believe in prevention You can watch Bethany Bell s Our World programme on forest fires on November on BBC World TV and the News Channel and on the BBC iPlayer Tap or click to go through the galleryThe COP global climate summit in Glasgow in November is seen as crucial if climate change is to be brought under control Almost countries are being asked for their plans to cut emissions and it could lead to major changes to our everyday lives Thousands flee forest fires in southern SpainEurope once again at epicentre of Covid WHO warnsThe WHO warns of more deaths in Europe by February as cases soar across the continent High risk Covid gene more common in South AsiansKirk Douglas assaulted Natalie Wood sister allegesLyse Doucet s love letter to Kabul through nine treasured placesAs winter looms reports of starvation in North KoreaDoes the skyscraper still have a future Weekly quiz Who joined Macaulay in the Love Parade The pizza box dilemma How to avoid wishcyclingCovid delays student s journey from slum to SydneyHow fresh is your food Sensors could show you VideoHow fresh is your food Sensors could show you Flippers united people in the joy of skating Video Flippers united people in the joy of skating BBC Worklife Why parents get pushy and competitiveFootball phrases sayings from around the world BBC The BBC is not responsible for the content of external sites Read about our approach to external linking ',\n",
              " 'More than countries have committed to shift away from coal in pledges made at the COP climate summit Major coal using countries including Poland Vietnam and Chile are among those to make the commitment But some of the world s biggest coal dependent countries including China and the US did not sign up In a separate commitment countries including the US pledged to end public financing for unabated fossil fuel projects abroad by the end of Such projects burn fossil fuels like coal oil and natural gas without using technology to capture the CO emissions Coal is the single biggest contributor to climate change Signatories to the agreement have committed to ending all investment in new coal power generation domestically and internationally They have also agreed to phase out coal power in the s for major economies and the s for poorer nations the UK said Dozens of organisations also signed up to the pledge with several major banks agreeing to stop financing the coal industry The end of coal is in sight UK business and energy secretary Kwasi Kwarteng said The world is moving in the right direction standing ready to seal coal s fate and embrace the environmental and economic benefits of building a future that is powered by clean energy But UK shadow business secretary Ed Miliband said there were glaring gaps from China and other large emitters who have not committed to stop increasing coal use domestically He also noted that there was nothing on the phasing out of oil and gas Mr Miliband said the UK government has let others off the hook Tap or click to go through the galleryAlthough progress has been made in reducing coal use globally it still produced around of the world s electricity in Countries like South Africa Poland and India will need major investments to make their energy sectors cleaner Juan Pablo Osornio head of Greenpeace s delegation at COP said Overall this statement still falls well short of the ambition needed on fossil fuels in this critical decade The small print seemingly gives countries enormous leeway to pick their own phase out date despite the shiny headline he added There s been such a flurry of announcements on the world s most polluting fossil fuel that it s hard to see the light for all the coal dust There are many questions outstanding One of the biggest is the list of countries missing from this bonfire of coal commitments including the US China and India The time scales for phase out are also a bit woolly with richer countries promising to end coal by the s with developing nations in the s None of these commitments are binding again there is no big stick to force countries to do this And how many of the plans to stop using coal in developing countries will need financial support from the developed world We ve already seen the UK Germany and the US step up to pay South Africa s bn bn to move away from coal Other countries are said to be interested in following in South Africa s footsteps So is there also a question of the rich countries paying others to do what they struggle to do at home While the US was notably absent from the coal commitments it joined other countries including the UK Canada and New Zealand in pledging to stop financing unabated overseas fossil fuel projects Investing in unabated fossil related energy projects increasingly entails both social and economic risks and has ensuing negative impacts on government revenue local employment taxpayers utility ratepayers and public health the signatories of the UK led initiative said in a joint statement The deal saw countries and financial institutions vow to steer their spending into clean energy instead It allowed for exemptions in unspecified limited circumstances but said these must be consistent with efforts to limit global temperature rises to C Ending international finance for all unabated fossil fuels is the next critical frontier we must deliver on UK energy minister Greg Hands said We must put public finance on the right side of history However major financers of such projects such as China Japan and South Korea did not sign up The countries did join G nations last month in agreeing to end financial support for new unabated coal plants overseas COP So far so good ishWhat s been agreed at COP so far A really simple guide to climate changeEurope once again at epicentre of Covid WHO warnsThe WHO warns of more deaths in Europe by February as cases soar across the continent High risk Covid gene more common in South AsiansKirk Douglas assaulted Natalie Wood sister allegesLyse Doucet s love letter to Kabul through nine treasured placesAs winter looms reports of starvation in North KoreaDoes the skyscraper still have a future Weekly quiz Who joined Macaulay in the Love Parade The pizza box dilemma How to avoid wishcyclingCovid delays student s journey from slum to SydneyHow fresh is your food Sensors could show you VideoHow fresh is your food Sensors could show you Flippers united people in the joy of skating Video Flippers united people in the joy of skating BBC Worklife Why parents get pushy and competitiveFootball phrases sayings from around the world BBC The BBC is not responsible for the content of external sites Read about our approach to external linking ',\n",
              " 'Joe Biden has rejected suggestions that his Democratic party s shock loss in the Virginia governor s race was a verdict on his presidency Mr Biden argued that the miring of his legislative agenda in a Capitol Hill logjam did not sway the outcome He cited Trump voters schools jobs and petrol prices as other reasons for the surprise defeat of Terry McAuliffe Republican Glenn Youngkin a political newcomer came from behind to win the Virginia governor s race on Tuesday Meanwhile the New Jersey governor s race went down to a nail biting dead heat between the Democratic incumbent Phil Murphy and a little known Republican challenger Jack Ciattarelli US media have projected Mr Murphy will win that race though his opponent has not yet conceded At the White House on Wednesday Mr Biden was asked whether he accepted any blame for Tuesday s political earthquake in Virginia He said voters are upset and uncertain about a lot of things including the pandemic education the economy and the price of petrol Mr Biden conceded Democrats should have passed his signature tn tn package of social and climate programmes and a tn infrastructure bill before Tuesday s vote He added But I m not sure I would be able to have changed the number of very conservative folks who turned out in the red districts who were Trump voters Mr Biden took several questions from reporters after making comments to promote coronavirus vaccines as American children aged to became eligible for the shots The president encouraged parents to get their young jabbed to help us keep our schools open Rising inflation a slow economic recovery a historic immigration crisis at the southern US border and a chaotic withdrawal from Afghanistan have also hit Mr Biden s approval rating He is one of the most unpopular presidents ever at this point during a first term according to opinion polls Mr Biden returned from a climate conference in Scotland early on Wednesday to news of the loss in a key Democratic stronghold that the president won by points just a year ago Mr Youngkin a former executive with the private equity firm Carlyle Group is the first member of his party elected to statewide office in Virginia since The mild mannered political novice narrowly defeated former Virginia Governor McAuliffe with a delicate balancing act of pulling in Trump supporters while avoiding being tied too closely to the former president who remains unpopular in swathes of the state This video can not be playedMr Youngkin s strategy is already being hailed as a template for Republicans as they vie to wrest wafer thin congressional majorities from Democrats in next year s mid term elections Two other Republicans won the other top offices in Virginia Former US Marine Winsome Sears will be the first black female lieutenant governor of the state which was the former seat of the pro slavery Confederacy during the American Civil War Cuban American Jason Miyares becomes the first Latino attorney general of Virginia Virginia exit polls showed many voters were preoccupied with education including how schools handle gender race and mask mandates key campaign issues for Mr Youngkin New Jersey s governor had been expected to cruise to re election in a state where registered Democratic voters outnumber Republicans by more than a million But Mr Murphy a wealthy former Goldman Sachs executive just squeaked to victory by a fraction of a percentage point against a Republican underdog with low name recognition A Biden ally Mr Murphy has presided over a leftward shift in the state including higher taxes on millionaires gun control and a higher minimum wage The political headwinds for Democrats in New Jersey were also underscored as a Republican truck driver Edward Durr who told Fox News he spent just on his campaign ousted the powerful president of the state senate Shock win for Republican in Virginia governor voteKey takeaways from a bad night for Joe BidenEurope once again at epicentre of Covid WHO warnsThe WHO warns of more deaths in Europe by February as cases soar across the continent High risk Covid gene more common in South AsiansKirk Douglas assaulted Natalie Wood sister allegesLyse Doucet s love letter to Kabul through nine treasured placesAs winter looms reports of starvation in North KoreaDoes the skyscraper still have a future Weekly quiz Who joined Macaulay in the Love Parade The pizza box dilemma How to avoid wishcyclingCovid delays student s journey from slum to SydneyHow fresh is your food Sensors could show you VideoHow fresh is your food Sensors could show you Flippers united people in the joy of skating Video Flippers united people in the joy of skating BBC Worklife Why parents get pushy and competitiveFootball phrases sayings from around the world BBC The BBC is not responsible for the content of external sites Read about our approach to external linking ',\n",
              " 'This video can not be playedAlmost every day for years expert diver Jim Abernethy has been swimming with sharks at a patch of shallow crystal clear ocean in the Bahamas known as Tiger Beach At any given moment Jim can be surrounded by or more tiger reef and lemon sharks But Jim has a unique relationship with these underwater predators who swim up to him for affectionate nose rubs For more on Jim s life with the sharks listen to the Outlook podcast Producers Clayton Conn and Mariana Des Forges Video by Caitlin Sneddon Sharks are my best friends Video Sharks are my best friendsUp Next Filming the friendly sharks that swimmers miss Video Filming the friendly sharks that swimmers miss Oh my God I m in a whale s mouth Video Oh my God I m in a whale s mouth Saving the home of the Octopus Teacher Video Saving the home of the Octopus Teacher Philippines reef littered with PPE face masks Video Philippines reef littered with PPE face masksThe world s deepest dive Video The world s deepest diveActivist got death threats after COP speech Video Activist got death threats after COP speech Flippers united people in the joy of skating Video Flippers united people in the joy of skating How fresh is your food Sensors could show you Video How fresh is your food Sensors could show you My name is Cleo First words from rescued girl Video My name is Cleo First words from rescued girlAmanda Knox I hope people would be more sceptical now Video Amanda Knox I hope people would be more sceptical nowA COP activist on why he s selling handcuff keys Video A COP activist on why he s selling handcuff keysWhy this element could help tackle climate change Video Why this element could help tackle climate changeMichelle Wu makes history in Boston mayoral race Video Michelle Wu makes history in Boston mayoral raceOne minute World News Video One minute World News BBC The BBC is not responsible for the content of external sites Read about our approach to external linking ',\n",
              " 'A four year old girl missing for days in a remote part of Western Australia has been found alive and well in a locked house police have said Cleo Smith disappeared from her family s tent at a campsite near the town of Carnarvon on October triggering a massive search A year old man is in custody and being questioned by detectives Police smashed their way into a home in Carnarvon in the early hours of Wednesday following forensic clues They found little Cleo in one of the rooms Deputy Commissioner Col Blanch from WA Police said in a statement One of the officers picked her up into his arms and asked her What s your name She said My name is Cleo This video can not be playedThe girl has been reunited with her parents who had made desperate pleas for Cleo s return Our family is whole again her mother Ellie Smith wrote on Instagram Police footage of Cleo s rescue showed her smiling and as well as we could expect in the circumstances said Commissioner Chris Dawson who added she was receiving medical care Authorities say the man in custody has no connection to the Smith family No charges have been laid The house where Cleo was found is about six minutes drive from her family home in Carnarvon which has about residents Australian PM Scott Morrison tweeted it was wonderful relieving news Commissioner Dawson said I think Australia is rejoicing To find a little girl a vulnerable little girl after days You know obviously people think the worst but importantly hope was never lost the commissioner added Cleo s family were on the first night of their holiday at the Quobba Blowholes camping ground when she went missing between and on October The remote site in Macleod is about km miles north of Perth and is a local attraction on the state s Coral Coast known for its windswept ocean scenery sea caves and lagoons Cleo had been sleeping on an air mattress next to her younger sister s cot When her mother who had been sleeping in the second room of the tent got up in the morning Cleo was gone and the tent door was open Police said this raised fears of an abduction Ms Smith was adamant Cleo could not have left the tent on her own A taskforce of officers were sent in from the state capital Perth to join a massive air land and sea search Reconnaissance planes were used to comb sparsely populated areas Authorities offered a A m reward for information on Cleo s whereabouts The case drew international attention and there were reports that bounty hunters had travelled to the region once the cash reward had been offered Deputy Commissioner Blanch said they scoured thousands of pieces of information looking for a needle in a haystack Late last night they found that needle that led them to that address and rescued Cleo he told Network Seven Police said it involved information about a car but would not elaborate ABC News reported a man who lived at the house had been recently spotted by a neighbour buying nappies We didn t click who he was buying them for the neighbour was quoted as saying News that Cleo has been found sparked a sense of huge relief in the local community For days we ve been filled with anxiety and concern Carnarvon Shire president Eddie Smith told Australia s GB radio Deputy Commissioner Blanch told PR radio that it had been incredible to see seasoned detectives openly crying with relief Police said they did not expect the reward to be claimed Police offer A m reward amid fears girl was takenFears grow for girl missing from Australia campsiteEurope once again at epicentre of Covid WHO warnsThe WHO warns of more deaths in Europe by February as cases soar across the continent High risk Covid gene more common in South AsiansKirk Douglas assaulted Natalie Wood sister allegesLyse Doucet s love letter to Kabul through nine treasured placesAs winter looms reports of starvation in North KoreaDoes the skyscraper still have a future Weekly quiz Who joined Macaulay in the Love Parade The pizza box dilemma How to avoid wishcyclingCovid delays student s journey from slum to SydneyHow fresh is your food Sensors could show you VideoHow fresh is your food Sensors could show you Flippers united people in the joy of skating Video Flippers united people in the joy of skating BBC Worklife Why parents get pushy and competitiveFootball phrases sayings from around the world BBC The BBC is not responsible for the content of external sites Read about our approach to external linking ',\n",
              " 'By Catherine Byaruhanga Yemane NagishBBC News BBC TigrinyaTigray s rebel forces currently have the upper hand in the war that erupted a year ago in northern Ethiopia Prime Minister Abiy Ahmed who fell out with the governing party of Tigray over his political reforms has declared a nationwide state of emergency it is fear and uncertainty that now rule As rebels advance towards the capital the government has asked residents of Addis Ababa to mobilise and protect their neighbourhoods Fighters from Tigray led by the Tigray People s Liberation Front TPLF took the cities of Dessie and Kombolcha over the weekend They are in the Amhara region which neighbours Tigray and are about km miles from the capital The battle for Dessie was believed to have been one of the most ferocious in the war as the city is seen as the gateway to Addis Ababa in the south and the border with Djibouti in the east A man who worked at the main hospital in Dessie before it fell said the city had changed dramatically over the last few months as fighting raged in the region Asking not to be named he told the BBC that Dessie was known as the capital of love because of its multi ethnic and cultural mix a thriving economic hub But in the last few months thousands of people have poured in fleeing the rebel advance To and from work small children would pull at my trouser legs and beg me for money to buy bread He and more than of his colleagues abandoned the hospital when they saw government soldiers leaving the town He is now in Addis Ababa from where Tewodrose Hailemariam a senior member of the National Movement of Amhara NaMA is mobilising communities to send fighters to stop the advance as well as distributing aid to those displaced He says his party believes the TPLF s real motivations are to come back to power The TPLF led the country for years until becoming sidelined by the government of Prime Minister Abiy There are two options either the TPLF is defeated and the Ethiopian central government is saved Or the worst case scenario is that the TPLF rules and controls Addis Ababa and then there will be civil war in the entire nation Mr Tewodrose told the BBC For Tigrayans in the capital the fall of Dessie has ratcheted up ethnic tension in the city A Tigrayan lawyer who lives in Addis Ababa said it was no longer the city where I was born and where I grew up Police have been rounding up Tigrayans in raids on homes cafes and bars and even during identity checks in taxis and buses she said In other cases this week the BBC was told of a group who were picked up while having dinner at a restaurant If you are Tigrayan you have no case You are arrested The arrest is in the name of ethnicity one resident said Addis Ababa s police spokesman said arrests were only made after obtaining evidence of illegal activities He confirmed that most of those arrested were Tigrayans but said that members of other ethnic groups were also detained The rebels say their advance is to force the government to end a blockade on the northern region of Tigray where aid is needed and power and banking services have been cut Since May the United Nations has warned that people are on the brink of famine there After the TPLF pushed the army out of Tigray s capital Mekelle in June aid agencies say they have faced roadblocks on roads leading to the region while restrictions on fuel and money have made it hard to bring in emergency relief to more than five million people in need After initially laying out a framework for negotiations with Mr Abiy s administration the Tigrayan forces emboldened by their military gains in the Amhara and Afar regions over the last few months now say they will not talk Tsadkan Gebretensae a former army general and senior commander of the Tigrayan forces has said the war is almost over and the next step will be a post Abiy national dialogue We have never intended to resolve the country s political complexity on just our own terms We will create a platform to bring all stakeholders together and discuss the future of the country he told Tigrai Television The humanitarian crisis in Tigray remains serious as can be seen in videos from Mekelle s Ayder Referral Hospital where the cries of one year old Eden Gebretsadiq linked up to a feeding tube echo through the corridors At first I didn t know it was caused by a shortage of food They have now told me she is malnourished her shocked mother Hiwote Berhe says as she tries to comfort her My husband used to be employed while I took care of the children at home We used to raise our children well They used to get the best food and they were always well dressed In another bed is Mebrhit Giday her limbs look painfully thin as her father Gidey Meresa gently sits her up to eat a banana He says they travelled more than km to get to the hospital from their rural town of Kola Tembien which saw some of the heaviest fighting when government troops were in Tigray Many residents were forced to flee to the mountains When they returned after the army and its allies were expelled they found their homes burnt and their oxen and donkeys stolen That all happened and we accepted it But my daughter got seriously sick she was very healthy before he says Doctors have told him the year old has heart complications probably caused by a lack of nutrition These are rare voices from Tigray smuggled out by medical officials for the BBC The shutdown of telecommunication and internet services means the network is patchy and it is incredibly difficult to speak to people there The BBC like many media houses has been blocked from accessing the region On a recent visit to Ethiopia International Committee of the Red Cross President Peter Maurer was not able to go to conflict areas At the present moment we don t see the light at the end of the tunnel he told the BBC The earlier we find a political solution bringing us out of the conflict the better it is because let s not fool ourselves even if the conflict stops tomorrow we will still have hundreds of thousands of people displaced and enormous needs The US UN and African Union have all been urging talks Threats of sanctions and even the US announcement that it would remove Ethiopia from a key trade agreement have failed to change the course of the conflict William Davison senior analyst at the International Crisis Group thinks it would be in the government s interest to offer concessions ending constraints on access to aid and restoring vital services to Tigray International actors should also call on the Tigray leadership to show maximum restraint as not only do they need to give Prime Minster Abiy Ahmed a final chance to change course but a quick attempt to march on Addis would probably lead to worsening violence and destabilisation for everyone he told the BBC Yet Mr Abiy who won the Nobel Peace Prize in for finally ending the war with neighbouring Eritrea does not appear in the mood for compromise As Ethiopia marked the one year anniversary of the war the year old leader continued to urge his countrymen to head to the front lines or back the war effort We will bury this enemy with our blood and bones and make the glory of Ethiopia high again More on the Tigray crisis This video can not be playedAfrica Today podcastsEurope once again at epicentre of Covid WHO warnsThe WHO warns of more deaths in Europe by February as cases soar across the continent High risk Covid gene more common in South AsiansKirk Douglas assaulted Natalie Wood sister allegesLyse Doucet s love letter to Kabul through nine treasured placesAs winter looms reports of starvation in North KoreaDoes the skyscraper still have a future Weekly quiz Who joined Macaulay in the Love Parade The pizza box dilemma How to avoid wishcyclingCovid delays student s journey from slum to SydneyHow fresh is your food Sensors could show you VideoHow fresh is your food Sensors could show you Flippers united people in the joy of skating Video Flippers united people in the joy of skating BBC Worklife Why parents get pushy and competitiveFootball phrases sayings from around the world BBC The BBC is not responsible for the content of external sites Read about our approach to external linking ']"
            ]
          },
          "metadata": {},
          "execution_count": 167
        }
      ]
    },
    {
      "cell_type": "code",
      "metadata": {
        "colab": {
          "base_uri": "https://localhost:8080/"
        },
        "id": "OuyIF_EaRokO",
        "outputId": "9a8fe626-b2d9-4a2b-a534-0d9a7ee0364f"
      },
      "source": [
        "print(len(human_Summary))"
      ],
      "execution_count": null,
      "outputs": [
        {
          "output_type": "stream",
          "name": "stdout",
          "text": [
            "10\n"
          ]
        }
      ]
    },
    {
      "cell_type": "code",
      "metadata": {
        "id": "V5TngXyFR05B"
      },
      "source": [
        "predicted = []\n",
        "def summary_gen(text):\n",
        "  batch = tokenizer(text, truncation=True, padding='longest', return_tensors=\"pt\").to(device)\n",
        "  translated = model.generate(**batch)\n",
        "  tgt_text = tokenizer.batch_decode(translated, skip_special_tokens=True)\n",
        "  predicted.append(tgt_text)"
      ],
      "execution_count": null,
      "outputs": []
    },
    {
      "cell_type": "code",
      "metadata": {
        "id": "7viAZQ1oSSMn"
      },
      "source": [
        "for i in src:\n",
        "  summary_gen(i)"
      ],
      "execution_count": null,
      "outputs": []
    },
    {
      "cell_type": "code",
      "metadata": {
        "id": "vRg8ljX8SdJY"
      },
      "source": [
        "from rouge_score import rouge_scorer\n",
        "recall = []\n",
        "precision = []\n",
        "fmeasure = []\n",
        "human_evaluation = [1, 1, 2, 2, 1, 1, 4, 3, 3, 1]\n",
        "scorer = rouge_scorer.RougeScorer(['rouge1'], use_stemmer=True)\n",
        "\n",
        "\n",
        "\n",
        "for j in range(len(human_Summary)):\n",
        "  scores = scorer.score(str(human_Summary[j]),str(predicted[j]))\n",
        "  recall.append(scores['rouge1'].recall)\n",
        "  precision.append(scores['rouge1'].precision)\n",
        "  fmeasure.append(scores['rouge1'].fmeasure)"
      ],
      "execution_count": null,
      "outputs": []
    },
    {
      "cell_type": "code",
      "metadata": {
        "colab": {
          "base_uri": "https://localhost:8080/"
        },
        "id": "LcSwus155TXI",
        "outputId": "ea432959-ba28-48cd-c2a4-5c6dcf105c79"
      },
      "source": [
        "source = ['bbc'] *10 \n",
        "\n",
        "len(['xsum']*10)"
      ],
      "execution_count": null,
      "outputs": [
        {
          "output_type": "execute_result",
          "data": {
            "text/plain": [
              "10"
            ]
          },
          "metadata": {},
          "execution_count": 177
        }
      ]
    },
    {
      "cell_type": "code",
      "metadata": {
        "id": "OH7KLur5lOau"
      },
      "source": [
        "dataframe = pd.DataFrame(data= {'model': ['xsum']*len(source),\n",
        "                         'source' : source,\n",
        "                         'original summary': human_Summary,\n",
        "                         'predicted' :clean_predicted,\n",
        "                         'recall': recall,\n",
        "                         'precision': precision,\n",
        "                         'fmeasure': fmeasure,\n",
        "                         'human_evaluation': human_evaluation\n",
        "                        })"
      ],
      "execution_count": null,
      "outputs": []
    },
    {
      "cell_type": "code",
      "metadata": {
        "colab": {
          "base_uri": "https://localhost:8080/",
          "height": 359
        },
        "id": "-wLwjkiUsbpe",
        "outputId": "df7a77f3-2fce-4585-fcb9-cdf0b7f38ebd"
      },
      "source": [
        "dataframe"
      ],
      "execution_count": null,
      "outputs": [
        {
          "output_type": "execute_result",
          "data": {
            "text/html": [
              "<div>\n",
              "<style scoped>\n",
              "    .dataframe tbody tr th:only-of-type {\n",
              "        vertical-align: middle;\n",
              "    }\n",
              "\n",
              "    .dataframe tbody tr th {\n",
              "        vertical-align: top;\n",
              "    }\n",
              "\n",
              "    .dataframe thead th {\n",
              "        text-align: right;\n",
              "    }\n",
              "</style>\n",
              "<table border=\"1\" class=\"dataframe\">\n",
              "  <thead>\n",
              "    <tr style=\"text-align: right;\">\n",
              "      <th></th>\n",
              "      <th>model</th>\n",
              "      <th>source</th>\n",
              "      <th>original summary</th>\n",
              "      <th>predicted</th>\n",
              "      <th>recall</th>\n",
              "      <th>precision</th>\n",
              "      <th>fmeasure</th>\n",
              "      <th>human_evaluation</th>\n",
              "    </tr>\n",
              "  </thead>\n",
              "  <tbody>\n",
              "    <tr>\n",
              "      <th>0</th>\n",
              "      <td>xsum</td>\n",
              "      <td>bbc</td>\n",
              "      <td>Indian festival name called Diwali shows dazzl...</td>\n",
              "      <td>Images courtesy of AFP, EPA, Getty Images and ...</td>\n",
              "      <td>0.024390</td>\n",
              "      <td>0.222222</td>\n",
              "      <td>0.043956</td>\n",
              "      <td>1</td>\n",
              "    </tr>\n",
              "    <tr>\n",
              "      <th>1</th>\n",
              "      <td>xsum</td>\n",
              "      <td>bbc</td>\n",
              "      <td>The minister of Israel Karine Elharrar  has ma...</td>\n",
              "      <td>Disabled people are among those most \"adversel...</td>\n",
              "      <td>0.115385</td>\n",
              "      <td>0.315789</td>\n",
              "      <td>0.169014</td>\n",
              "      <td>1</td>\n",
              "    </tr>\n",
              "    <tr>\n",
              "      <th>2</th>\n",
              "      <td>xsum</td>\n",
              "      <td>bbc</td>\n",
              "      <td>There is a good chance the character of Schitt...</td>\n",
              "      <td>If you've been on social media in the last few...</td>\n",
              "      <td>0.214286</td>\n",
              "      <td>0.428571</td>\n",
              "      <td>0.285714</td>\n",
              "      <td>2</td>\n",
              "    </tr>\n",
              "    <tr>\n",
              "      <th>3</th>\n",
              "      <td>xsum</td>\n",
              "      <td>bbc</td>\n",
              "      <td>A former porter at the exclusive Abbots House ...</td>\n",
              "      <td>She's one of Europe's most notorious fraudster...</td>\n",
              "      <td>0.203704</td>\n",
              "      <td>0.207547</td>\n",
              "      <td>0.205607</td>\n",
              "      <td>2</td>\n",
              "    </tr>\n",
              "    <tr>\n",
              "      <th>4</th>\n",
              "      <td>xsum</td>\n",
              "      <td>bbc</td>\n",
              "      <td>In pledges made at the COP26 climate summit, m...</td>\n",
              "      <td>As world leaders gather in Scotland for a key ...</td>\n",
              "      <td>0.142857</td>\n",
              "      <td>0.227273</td>\n",
              "      <td>0.175439</td>\n",
              "      <td>1</td>\n",
              "    </tr>\n",
              "    <tr>\n",
              "      <th>5</th>\n",
              "      <td>xsum</td>\n",
              "      <td>bbc</td>\n",
              "      <td>some of the worlds biggest coal dependent coun...</td>\n",
              "      <td>The world is \"moving in the right direction\" a...</td>\n",
              "      <td>0.000000</td>\n",
              "      <td>0.000000</td>\n",
              "      <td>0.000000</td>\n",
              "      <td>1</td>\n",
              "    </tr>\n",
              "    <tr>\n",
              "      <th>6</th>\n",
              "      <td>xsum</td>\n",
              "      <td>bbc</td>\n",
              "      <td>Joe Biden has rejected suggestions that his De...</td>\n",
              "      <td>\"I'm not sure I would be able to have changed ...</td>\n",
              "      <td>0.534884</td>\n",
              "      <td>0.851852</td>\n",
              "      <td>0.657143</td>\n",
              "      <td>4</td>\n",
              "    </tr>\n",
              "    <tr>\n",
              "      <th>7</th>\n",
              "      <td>xsum</td>\n",
              "      <td>bbc</td>\n",
              "      <td>Almost every day for 40 years, expert diver Ji...</td>\n",
              "      <td>Jim Abernethy has been swimming with sharks at...</td>\n",
              "      <td>0.439394</td>\n",
              "      <td>0.674419</td>\n",
              "      <td>0.532110</td>\n",
              "      <td>3</td>\n",
              "    </tr>\n",
              "    <tr>\n",
              "      <th>8</th>\n",
              "      <td>xsum</td>\n",
              "      <td>bbc</td>\n",
              "      <td>A four year old girl missing from 18 days in a...</td>\n",
              "      <td>All images are copyrighted.</td>\n",
              "      <td>0.269461</td>\n",
              "      <td>0.900000</td>\n",
              "      <td>0.414747</td>\n",
              "      <td>3</td>\n",
              "    </tr>\n",
              "    <tr>\n",
              "      <th>9</th>\n",
              "      <td>xsum</td>\n",
              "      <td>bbc</td>\n",
              "      <td>Tigrays rebel forces currently have the upper ...</td>\n",
              "      <td>The Ethiopian capital, Addis Ababa, is on edge.</td>\n",
              "      <td>0.073333</td>\n",
              "      <td>0.785714</td>\n",
              "      <td>0.134146</td>\n",
              "      <td>1</td>\n",
              "    </tr>\n",
              "  </tbody>\n",
              "</table>\n",
              "</div>"
            ],
            "text/plain": [
              "  model source  ...  fmeasure human_evaluation\n",
              "0  xsum    bbc  ...  0.043956                1\n",
              "1  xsum    bbc  ...  0.169014                1\n",
              "2  xsum    bbc  ...  0.285714                2\n",
              "3  xsum    bbc  ...  0.205607                2\n",
              "4  xsum    bbc  ...  0.175439                1\n",
              "5  xsum    bbc  ...  0.000000                1\n",
              "6  xsum    bbc  ...  0.657143                4\n",
              "7  xsum    bbc  ...  0.532110                3\n",
              "8  xsum    bbc  ...  0.414747                3\n",
              "9  xsum    bbc  ...  0.134146                1\n",
              "\n",
              "[10 rows x 8 columns]"
            ]
          },
          "metadata": {},
          "execution_count": 179
        }
      ]
    },
    {
      "cell_type": "code",
      "metadata": {
        "id": "MMlpZpdV85Zr",
        "colab": {
          "base_uri": "https://localhost:8080/"
        },
        "outputId": "e6181730-2654-4185-b024-d74c1bb52ff3"
      },
      "source": [
        "drive.mount('drive')\n",
        "dataframe.to_csv('danish.csv')\n",
        "!cp danish.csv \"/content/drive/MyDrive/ADS Final/\""
      ],
      "execution_count": null,
      "outputs": [
        {
          "output_type": "stream",
          "name": "stdout",
          "text": [
            "Drive already mounted at drive; to attempt to forcibly remount, call drive.mount(\"drive\", force_remount=True).\n"
          ]
        }
      ]
    }
  ]
}